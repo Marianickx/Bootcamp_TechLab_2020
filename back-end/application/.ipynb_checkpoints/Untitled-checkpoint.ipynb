{
 "cells": [
  {
   "cell_type": "code",
   "execution_count": 1,
   "metadata": {},
   "outputs": [],
   "source": [
    "import io\n",
    "import PIL.Image\n",
    "import IPython\n",
    "import cv2\n",
    "import os\n",
    "from IPython.display import Image, display, clear_output\n",
    "import numpy as np\n",
    "import imageio\n",
    "import time\n",
    "import argparse\n",
    "from tensorflow.keras.applications.mobilenet_v2 import preprocess_input\n",
    "from tensorflow.keras.preprocessing.image import img_to_array\n",
    "from tensorflow.keras.models import load_model\n"
   ]
  },
  {
   "cell_type": "code",
   "execution_count": 2,
   "metadata": {
    "scrolled": true
   },
   "outputs": [
    {
     "name": "stdout",
     "output_type": "stream",
     "text": [
      "haarcascade_eye.xml\n",
      "haarcascade_eye_tree_eyeglasses.xml\n",
      "haarcascade_frontalcatface.xml\n",
      "haarcascade_frontalcatface_extended.xml\n",
      "haarcascade_frontalface_alt.xml\n",
      "haarcascade_frontalface_alt2.xml\n",
      "haarcascade_frontalface_alt_tree.xml\n",
      "haarcascade_frontalface_default.xml\n",
      "haarcascade_fullbody.xml\n",
      "haarcascade_lefteye_2splits.xml\n",
      "haarcascade_licence_plate_rus_16stages.xml\n",
      "haarcascade_lowerbody.xml\n",
      "haarcascade_profileface.xml\n",
      "haarcascade_righteye_2splits.xml\n",
      "haarcascade_russian_plate_number.xml\n",
      "haarcascade_smile.xml\n",
      "haarcascade_upperbody.xml\n",
      "Requirement already satisfied: imageio-ffmpeg in /usr/local/lib/python3.6/dist-packages (0.4.2)\n",
      "\u001b[33mWARNING: You are using pip version 20.2.2; however, version 20.2.4 is available.\n",
      "You should consider upgrading via the '/usr/bin/python3.6 -m pip install --upgrade pip' command.\u001b[0m\n"
     ]
    }
   ],
   "source": [
    "!ls /usr/local/share/opencv4/haarcascades\n",
    "!pip install imageio-ffmpeg\n"
   ]
  },
  {
   "cell_type": "code",
   "execution_count": 3,
   "metadata": {},
   "outputs": [],
   "source": [
    "def path(classifier):\n",
    "    return os.path.join('/usr/local/share/opencv4/haarcascades',classifier)"
   ]
  },
  {
   "cell_type": "code",
   "execution_count": 4,
   "metadata": {},
   "outputs": [],
   "source": [
    "## Variaveis globais e classificadores\n",
    "\n",
    "model = load_model('mask_detector.model')\n",
    "classifier = {\n",
    "    'frontalHigherPrecision': 'haarcascade_frontalface_alt_tree.xml',\n",
    "    'frontalLowerPrecision': 'haarcascade_frontalface_default.xml',\n",
    "    'profile': 'haarcascade_profileface.xml',\n",
    "    'eyes': 'haarcascade_eye_tree_eyeglasses.xml',\n",
    "    'f':'haarcascade_frontalface_alt2.xml'\n",
    "}\n",
    "for key in classifier:\n",
    "    if classifier[key][0] != '/':\n",
    "        classifier[key] = path(classifier[key])\n",
    "maskOff = 0\n",
    "crowded = 0\n",
    "\n",
    "clrs = [\n",
    "    [(0,255,0),(255,255,0)],\n",
    "    [(255,127,0),(255,0,0)]\n",
    "]"
   ]
  },
  {
   "cell_type": "code",
   "execution_count": 5,
   "metadata": {},
   "outputs": [],
   "source": [
    "def showarray(a,fmt = 'jpeg'): # Mostra imagem\n",
    "    f = io.BytesIO()\n",
    "    PIL.Image.fromarray(a).save(f,fmt)\n",
    "    display(Image(data=f.getvalue()))"
   ]
  },
  {
   "cell_type": "code",
   "execution_count": 6,
   "metadata": {},
   "outputs": [],
   "source": [
    "def detect_face(classifier_path,image_gray,scale,min_neighbors):\n",
    "    classifier = cv2.CascadeClassifier(classifier_path)\n",
    "    \n",
    "    if not classifier.empty():\n",
    "        faces = classifier.detectMultiScale(image_gray,scale,min_neighbors)\n",
    "        \n",
    "        return np.array(list(faces))\n",
    "    return np.array([])\n"
   ]
  },
  {
   "cell_type": "markdown",
   "metadata": {},
   "source": [
    "## Funções pra aglomeração\n",
    "\n",
    "    \n",
    "  "
   ]
  },
  {
   "cell_type": "code",
   "execution_count": 7,
   "metadata": {},
   "outputs": [],
   "source": [
    "def distance(p1,p2):\n",
    "    return ((p2[0]-p1[0])**2 + (p2[1]-p1[1])**2)**(1/2)"
   ]
  },
  {
   "cell_type": "code",
   "execution_count": 8,
   "metadata": {},
   "outputs": [],
   "source": [
    "def createCenters(faces): # Necessário pra fazer distância euclidiana\n",
    "    centers = [] \n",
    "    for frame in faces:\n",
    "        (x,y,w,w) = frame\n",
    "        center = ((x+w/2),(y+w/2))\n",
    "        centers.append(center)\n",
    "    return centers"
   ]
  },
  {
   "cell_type": "code",
   "execution_count": 9,
   "metadata": {},
   "outputs": [],
   "source": [
    "def distArr(faces):\n",
    "    centers = createCenters(faces) \n",
    "    n = len(centers)\n",
    "    dist = np.zeros((n,n))\n",
    "    for i in range(len(centers)):\n",
    "        for j in range(len(centers)):\n",
    "            if i == j:\n",
    "                continue\n",
    "            if j > i:\n",
    "                break\n",
    "            # Matriz reflexiva    \n",
    "            dist[i][j] = distance(centers[i],centers[j])\n",
    "            dist[j][i] = dist[i][j] \n",
    "    return dist   "
   ]
  },
  {
   "cell_type": "code",
   "execution_count": 10,
   "metadata": {},
   "outputs": [],
   "source": [
    "def hasMask(face):\n",
    "    global model\n",
    "    face = cv2.resize(face, (224, 224))\n",
    "    face = preprocess_input(face)\n",
    "    face = np.expand_dims(face, axis=0)\n",
    "    return model.predict(face)[0][0]\n",
    "    "
   ]
  },
  {
   "cell_type": "code",
   "execution_count": 11,
   "metadata": {},
   "outputs": [],
   "source": [
    "## COLOR\n",
    "#   0 1   for Green,Yellow,Orange,Red\n",
    "# 0 G Y \n",
    "# 1 O R\n",
    "def clr(maskOff,crowded):\n",
    "    global clrs\n",
    "    return clrs[maskOff][crowded]"
   ]
  },
  {
   "cell_type": "code",
   "execution_count": 12,
   "metadata": {},
   "outputs": [],
   "source": [
    "def rectangles(img_rgb,faces,dist): # Mostra a imagem com os retângulos\n",
    "    anyMaskOff=False;\n",
    "    anyCrowded=False;\n",
    "    global model\n",
    "    for i in range(len(faces)): # pra cada rosto\n",
    "        maskOff = False\n",
    "        crowded = False\n",
    "        x,y,w,w = faces[i]\n",
    "        face = img_rgb[y:y+w,x:x+w]\n",
    "        img_rgb[y:y+w,x:x+w] = cv2.GaussianBlur(face,(21,21),0)\n",
    "        ## predict mask\n",
    "        if hasMask(face) <0.45:\n",
    "            maskOff = True\n",
    "            anyMaskOff = True\n",
    "        ## Ver aglomeração\n",
    "        for d in dist[i]:\n",
    "            if d < 200 and d != 0:\n",
    "                crowded = True\n",
    "                anyCrowded = True\n",
    "                break\n",
    "        #######\n",
    "        color = clr(maskOff,crowded)\n",
    "        img_rgb = cv2.rectangle(img_rgb,(x,y),(x+w,y+w),color,3)\n",
    "    return img_rgb "
   ]
  },
  {
   "cell_type": "code",
   "execution_count": 13,
   "metadata": {},
   "outputs": [],
   "source": [
    "def show(vid):\n",
    "    global maskOff\n",
    "    global crowded\n",
    "    for image in vid.iter_data():\n",
    "        #frameCount+=1\n",
    "        gray = cv2.cvtColor(image, cv2.COLOR_RGB2GRAY)\n",
    "        faces = detect_face(classifier['frontalLowerPrecision'],gray,1.3,4)\n",
    "        dist = distArr(faces)\n",
    "        img= rectangles(image,faces,dist)\n",
    "        \n",
    "        \n",
    "        showarray(image)\n",
    "        clear_output(wait=True)\n"
   ]
  },
  {
   "cell_type": "code",
   "execution_count": 15,
   "metadata": {},
   "outputs": [
    {
     "data": {
      "image/jpeg": "[encoded data removed]",
      "text/plain": [
       "<IPython.core.display.Image object>"
      ]
     },
     "metadata": {},
     "output_type": "display_data"
    }
   ],
   "source": [
    "file = 'video.mp4'\n",
    "vid = imageio.get_reader(file,'ffmpeg')\n",
    "frameCount = 0\n",
    "for image in vid.iter_data():\n",
    "    frameCount+=1\n",
    "    gray = cv2.cvtColor(image, cv2.COLOR_RGB2GRAY)\n",
    "    faces = detect_face(classifier['frontalLowerPrecision'],gray,1.3,4)\n",
    "    dist = distArr(faces)\n",
    "    img= rectangles(image,faces,dist)\n",
    "    if(frameCount == 30):\n",
    "        break\n",
    "showarray(img)        \n",
    "    "
   ]
  },
  {
   "cell_type": "code",
   "execution_count": null,
   "metadata": {},
   "outputs": [],
   "source": []
  },
  {
   "cell_type": "code",
   "execution_count": null,
   "metadata": {},
   "outputs": [],
   "source": []
  }
 ],
 "metadata": {
  "kernelspec": {
   "display_name": "Python 3",
   "language": "python",
   "name": "python3"
  },
  "language_info": {
   "codemirror_mode": {
    "name": "ipython",
    "version": 3
   },
   "file_extension": ".py",
   "mimetype": "text/x-python",
   "name": "python",
   "nbconvert_exporter": "python",
   "pygments_lexer": "ipython3",
   "version": "3.6.9"
  }
 },
 "nbformat": 4,
 "nbformat_minor": 4
}
